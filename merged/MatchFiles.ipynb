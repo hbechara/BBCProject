{
 "cells": [
  {
   "cell_type": "code",
   "execution_count": 1,
   "metadata": {},
   "outputs": [],
   "source": [
    "import pandas as pd\n",
    "from datetime import datetime"
   ]
  },
  {
   "cell_type": "code",
   "execution_count": 4,
   "metadata": {},
   "outputs": [
    {
     "name": "stdout",
     "output_type": "stream",
     "text": [
      "/Users/paulina/Documents/BBCProject/merged\n"
     ]
    }
   ],
   "source": [
    "!pwd"
   ]
  },
  {
   "cell_type": "code",
   "execution_count": 60,
   "metadata": {},
   "outputs": [
    {
     "data": {
      "text/html": [
       "<div>\n",
       "<style scoped>\n",
       "    .dataframe tbody tr th:only-of-type {\n",
       "        vertical-align: middle;\n",
       "    }\n",
       "\n",
       "    .dataframe tbody tr th {\n",
       "        vertical-align: top;\n",
       "    }\n",
       "\n",
       "    .dataframe thead th {\n",
       "        text-align: right;\n",
       "    }\n",
       "</style>\n",
       "<table border=\"1\" class=\"dataframe\">\n",
       "  <thead>\n",
       "    <tr style=\"text-align: right;\">\n",
       "      <th></th>\n",
       "      <th>Timestamp</th>\n",
       "      <th>Title</th>\n",
       "      <th>Text</th>\n",
       "      <th>location</th>\n",
       "      <th>press</th>\n",
       "    </tr>\n",
       "  </thead>\n",
       "  <tbody>\n",
       "    <tr>\n",
       "      <th>0</th>\n",
       "      <td>2024/02/12</td>\n",
       "      <td>Israel kills dozens in Rafah strikes, frees tw...</td>\n",
       "      <td>Israel has carried out air strikes in the sout...</td>\n",
       "      <td>Palestine</td>\n",
       "      <td>Al Jazeera</td>\n",
       "    </tr>\n",
       "    <tr>\n",
       "      <th>1</th>\n",
       "      <td>2024/02/11</td>\n",
       "      <td>Hamas warns Israeli invasion of Rafah will ‘to...</td>\n",
       "      <td>Hamas has warned Israel thata ground offensive...</td>\n",
       "      <td>Palestine</td>\n",
       "      <td>Al Jazeera</td>\n",
       "    </tr>\n",
       "    <tr>\n",
       "      <th>2</th>\n",
       "      <td>2024/02/11</td>\n",
       "      <td>Palestinian President Mahmoud Abbas in Qatar f...</td>\n",
       "      <td>Palestinian President Mahmoud Abbas has arrive...</td>\n",
       "      <td>Palestine</td>\n",
       "      <td>Al Jazeera</td>\n",
       "    </tr>\n",
       "    <tr>\n",
       "      <th>3</th>\n",
       "      <td>2024/02/11</td>\n",
       "      <td>What’s happening in Gaza’s Rafah as Israel thr...</td>\n",
       "      <td>Rafah, a looming Israeli ground “operation”, a...</td>\n",
       "      <td>Palestine</td>\n",
       "      <td>Al Jazeera</td>\n",
       "    </tr>\n",
       "    <tr>\n",
       "      <th>4</th>\n",
       "      <td>2024/02/11</td>\n",
       "      <td>UNRWA refutes Israeli implications of Hamas tu...</td>\n",
       "      <td>The chief of the UN’s aid agency in Gaza has s...</td>\n",
       "      <td>Palestine</td>\n",
       "      <td>Al Jazeera</td>\n",
       "    </tr>\n",
       "  </tbody>\n",
       "</table>\n",
       "</div>"
      ],
      "text/plain": [
       "    Timestamp                                              Title  \\\n",
       "0  2024/02/12  Israel kills dozens in Rafah strikes, frees tw...   \n",
       "1  2024/02/11  Hamas warns Israeli invasion of Rafah will ‘to...   \n",
       "2  2024/02/11  Palestinian President Mahmoud Abbas in Qatar f...   \n",
       "3  2024/02/11  What’s happening in Gaza’s Rafah as Israel thr...   \n",
       "4  2024/02/11  UNRWA refutes Israeli implications of Hamas tu...   \n",
       "\n",
       "                                                Text   location       press  \n",
       "0  Israel has carried out air strikes in the sout...  Palestine  Al Jazeera  \n",
       "1  Hamas has warned Israel thata ground offensive...  Palestine  Al Jazeera  \n",
       "2  Palestinian President Mahmoud Abbas has arrive...  Palestine  Al Jazeera  \n",
       "3  Rafah, a looming Israeli ground “operation”, a...  Palestine  Al Jazeera  \n",
       "4  The chief of the UN’s aid agency in Gaza has s...  Palestine  Al Jazeera  "
      ]
     },
     "execution_count": 60,
     "metadata": {},
     "output_type": "execute_result"
    }
   ],
   "source": [
    "# Read file\n",
    "alj = pd.read_csv(\"../alj/AllArticlesContent.csv\")\n",
    "\n",
    "# add columns for indexing\n",
    "alj['location'] = \"Palestine\"\n",
    "alj['press'] = \"Al Jazeera\"\n",
    "\n",
    "# Filter column of alj to keep only relevant articles.\n",
    "keywords = 'Israel|Palestine|Gaza|Ghaza'\n",
    "alj = alj[alj['Content'].str.contains(keywords, case=False, na=False)]\n",
    "\n",
    "# Extract the date using regex and create a new column 'date'\n",
    "# The regex pattern \\d{4}/\\d{1,2}/\\d{1,2} matches the date format YYYY/MM/DD\n",
    "alj['Timestamp'] = alj['URL'].str.extract(r'/(\\d{4}/\\d{1,2}/\\d{1,2})')[0]\n",
    "alj['Timestamp'] = pd.to_datetime(alj['Timestamp'])\n",
    "alj['Timestamp'] = alj['Timestamp'].dt.strftime('%Y/%m/%d')\n",
    "\n",
    "# Rename\n",
    "alj.rename(columns={'Content': 'Text'}, inplace=True)\n",
    "\n",
    "# Drop columns that are not needed\n",
    "alj.drop(['Subtitle', 'URL'], axis=1, inplace=True)\n",
    "\n",
    "# Order the columns\n",
    "alj = alj[['Timestamp', 'Title', 'Text', 'location', 'press']]\n",
    "\n",
    "alj.head()"
   ]
  },
  {
   "cell_type": "code",
   "execution_count": 61,
   "metadata": {},
   "outputs": [
    {
     "data": {
      "text/html": [
       "<div>\n",
       "<style scoped>\n",
       "    .dataframe tbody tr th:only-of-type {\n",
       "        vertical-align: middle;\n",
       "    }\n",
       "\n",
       "    .dataframe tbody tr th {\n",
       "        vertical-align: top;\n",
       "    }\n",
       "\n",
       "    .dataframe thead th {\n",
       "        text-align: right;\n",
       "    }\n",
       "</style>\n",
       "<table border=\"1\" class=\"dataframe\">\n",
       "  <thead>\n",
       "    <tr style=\"text-align: right;\">\n",
       "      <th></th>\n",
       "      <th>Timestamp</th>\n",
       "      <th>Title</th>\n",
       "      <th>Text</th>\n",
       "      <th>location</th>\n",
       "      <th>press</th>\n",
       "    </tr>\n",
       "  </thead>\n",
       "  <tbody>\n",
       "    <tr>\n",
       "      <th>0</th>\n",
       "      <td>2024/02/17</td>\n",
       "      <td>Ukraine war: 'Artificial shortage' of weapons ...</td>\n",
       "      <td>Ukraine's President Volodymyr Zelensky has mad...</td>\n",
       "      <td>Ukraine</td>\n",
       "      <td>BBC</td>\n",
       "    </tr>\n",
       "    <tr>\n",
       "      <th>1</th>\n",
       "      <td>2024/02/17</td>\n",
       "      <td>Avdiivka: Ukraine troops leave embattled easte...</td>\n",
       "      <td>Ukraine says its troops have withdrawn from Av...</td>\n",
       "      <td>Ukraine</td>\n",
       "      <td>BBC</td>\n",
       "    </tr>\n",
       "    <tr>\n",
       "      <th>2</th>\n",
       "      <td>2024/02/17</td>\n",
       "      <td>Ukraine war: Is Avdiivka's fall a sign Russia ...</td>\n",
       "      <td>In order to preserve life and encirclement, I ...</td>\n",
       "      <td>Ukraine</td>\n",
       "      <td>BBC</td>\n",
       "    </tr>\n",
       "    <tr>\n",
       "      <th>3</th>\n",
       "      <td>2024/02/17</td>\n",
       "      <td>Biden condemns House taking break without pass...</td>\n",
       "      <td>President Joe Biden has said the US House's de...</td>\n",
       "      <td>Ukraine</td>\n",
       "      <td>BBC</td>\n",
       "    </tr>\n",
       "    <tr>\n",
       "      <th>4</th>\n",
       "      <td>2024/02/16</td>\n",
       "      <td>Ukraine Russia war: US warns Avdiivka could fa...</td>\n",
       "      <td>The US has warned that Russia could seize Ukra...</td>\n",
       "      <td>Ukraine</td>\n",
       "      <td>BBC</td>\n",
       "    </tr>\n",
       "  </tbody>\n",
       "</table>\n",
       "</div>"
      ],
      "text/plain": [
       "    Timestamp                                              Title  \\\n",
       "0  2024/02/17  Ukraine war: 'Artificial shortage' of weapons ...   \n",
       "1  2024/02/17  Avdiivka: Ukraine troops leave embattled easte...   \n",
       "2  2024/02/17  Ukraine war: Is Avdiivka's fall a sign Russia ...   \n",
       "3  2024/02/17  Biden condemns House taking break without pass...   \n",
       "4  2024/02/16  Ukraine Russia war: US warns Avdiivka could fa...   \n",
       "\n",
       "                                                Text location press  \n",
       "0  Ukraine's President Volodymyr Zelensky has mad...  Ukraine   BBC  \n",
       "1  Ukraine says its troops have withdrawn from Av...  Ukraine   BBC  \n",
       "2  In order to preserve life and encirclement, I ...  Ukraine   BBC  \n",
       "3  President Joe Biden has said the US House's de...  Ukraine   BBC  \n",
       "4  The US has warned that Russia could seize Ukra...  Ukraine   BBC  "
      ]
     },
     "execution_count": 61,
     "metadata": {},
     "output_type": "execute_result"
    }
   ],
   "source": [
    "# Read file\n",
    "ukr = pd.read_excel(\"../BBCUkraine/Ukraine.xlsx\")\n",
    "ukr['location'] = \"Ukraine\"\n",
    "ukr['press'] = \"BBC\"\n",
    "\n",
    "# Convert the string to a datetime object\n",
    "ukr['Timestamp'] = pd.to_datetime(ukr['Timestamp']).dt.strftime('%Y/%m/%d')\n",
    "\n",
    "# Clean up\n",
    "ukr.drop(['Authors'], axis=1, inplace=True)\n",
    "ukr.head()"
   ]
  },
  {
   "cell_type": "code",
   "execution_count": 62,
   "metadata": {},
   "outputs": [
    {
     "data": {
      "text/html": [
       "<div>\n",
       "<style scoped>\n",
       "    .dataframe tbody tr th:only-of-type {\n",
       "        vertical-align: middle;\n",
       "    }\n",
       "\n",
       "    .dataframe tbody tr th {\n",
       "        vertical-align: top;\n",
       "    }\n",
       "\n",
       "    .dataframe thead th {\n",
       "        text-align: right;\n",
       "    }\n",
       "</style>\n",
       "<table border=\"1\" class=\"dataframe\">\n",
       "  <thead>\n",
       "    <tr style=\"text-align: right;\">\n",
       "      <th></th>\n",
       "      <th>Timestamp</th>\n",
       "      <th>Title</th>\n",
       "      <th>Text</th>\n",
       "      <th>location</th>\n",
       "      <th>press</th>\n",
       "    </tr>\n",
       "  </thead>\n",
       "  <tbody>\n",
       "    <tr>\n",
       "      <th>0</th>\n",
       "      <td>2024/02/16</td>\n",
       "      <td>Israel Gaza war: Satellite images show constru...</td>\n",
       "      <td>Satellite images appear to show extensive cons...</td>\n",
       "      <td>Palestine</td>\n",
       "      <td>BBC</td>\n",
       "    </tr>\n",
       "    <tr>\n",
       "      <th>1</th>\n",
       "      <td>2024/02/16</td>\n",
       "      <td>Southend West Lib Dem quits over 'offensive' s...</td>\n",
       "      <td>A woman who was expected to become the next Li...</td>\n",
       "      <td>Palestine</td>\n",
       "      <td>BBC</td>\n",
       "    </tr>\n",
       "    <tr>\n",
       "      <th>2</th>\n",
       "      <td>2024/02/16</td>\n",
       "      <td>Gaza's Nasser hospital: Fears for patients as ...</td>\n",
       "      <td>The Israeli military says its special forces a...</td>\n",
       "      <td>Palestine</td>\n",
       "      <td>BBC</td>\n",
       "    </tr>\n",
       "    <tr>\n",
       "      <th>3</th>\n",
       "      <td>2024/02/16</td>\n",
       "      <td>Hamas hostages: Stories of the people taken fr...</td>\n",
       "      <td>Israel's military says that two male hostages ...</td>\n",
       "      <td>Palestine</td>\n",
       "      <td>BBC</td>\n",
       "    </tr>\n",
       "    <tr>\n",
       "      <th>4</th>\n",
       "      <td>2024/02/15</td>\n",
       "      <td>Nasser hospital in 'catastrophic' condition as...</td>\n",
       "      <td>Israel's military claims it has captured \"doze...</td>\n",
       "      <td>Palestine</td>\n",
       "      <td>BBC</td>\n",
       "    </tr>\n",
       "  </tbody>\n",
       "</table>\n",
       "</div>"
      ],
      "text/plain": [
       "    Timestamp                                              Title  \\\n",
       "0  2024/02/16  Israel Gaza war: Satellite images show constru...   \n",
       "1  2024/02/16  Southend West Lib Dem quits over 'offensive' s...   \n",
       "2  2024/02/16  Gaza's Nasser hospital: Fears for patients as ...   \n",
       "3  2024/02/16  Hamas hostages: Stories of the people taken fr...   \n",
       "4  2024/02/15  Nasser hospital in 'catastrophic' condition as...   \n",
       "\n",
       "                                                Text   location press  \n",
       "0  Satellite images appear to show extensive cons...  Palestine   BBC  \n",
       "1  A woman who was expected to become the next Li...  Palestine   BBC  \n",
       "2  The Israeli military says its special forces a...  Palestine   BBC  \n",
       "3  Israel's military says that two male hostages ...  Palestine   BBC  \n",
       "4  Israel's military claims it has captured \"doze...  Palestine   BBC  "
      ]
     },
     "execution_count": 62,
     "metadata": {},
     "output_type": "execute_result"
    }
   ],
   "source": [
    "# Read file\n",
    "bbcme = pd.read_excel(\"../BBCME/MiddleEast.xlsx\")\n",
    "bbcme['location'] = \"Palestine\"\n",
    "bbcme['press'] = \"BBC\"\n",
    "\n",
    "# Convert the string to a datetime object\n",
    "bbcme['Timestamp'] = pd.to_datetime(bbcme['Timestamp']).dt.strftime('%Y/%m/%d')\n",
    "\n",
    "# Clean up\n",
    "bbcme.drop(['Authors'], axis=1, inplace=True)\n",
    "bbcme.head()"
   ]
  },
  {
   "cell_type": "code",
   "execution_count": 63,
   "metadata": {},
   "outputs": [
    {
     "name": "stdout",
     "output_type": "stream",
     "text": [
      "Index(['Timestamp', 'Title', 'Text', 'location', 'press'], dtype='object')\n",
      "Index(['Timestamp', 'Title', 'Text', 'location', 'press'], dtype='object')\n",
      "Index(['Timestamp', 'Title', 'Text', 'location', 'press'], dtype='object')\n"
     ]
    }
   ],
   "source": [
    "for i in [alj, bbcme, ukr]:\n",
    "    print(i.columns)"
   ]
  },
  {
   "cell_type": "code",
   "execution_count": 64,
   "metadata": {},
   "outputs": [],
   "source": [
    "# Merge and save all the data in a csv\n",
    "news = pd.concat([alj, bbcme, ukr], axis=0, ignore_index=True)\n",
    "news.to_csv(\"allNewsMerged.csv\", index=False)"
   ]
  },
  {
   "cell_type": "code",
   "execution_count": 86,
   "metadata": {},
   "outputs": [],
   "source": [
    "# Separte to get wide format based on location and press\n",
    "pal_news =news.loc[news['location'] == \"Palestine\"]\n",
    "bbc_news =news.loc[news['press'] == \"BBC\"]"
   ]
  },
  {
   "cell_type": "code",
   "execution_count": 92,
   "metadata": {},
   "outputs": [
    {
     "name": "stderr",
     "output_type": "stream",
     "text": [
      "/var/folders/n5/y53yj96j3d7bsb54xrzys8s40000gn/T/ipykernel_11678/3577342679.py:1: SettingWithCopyWarning: \n",
      "A value is trying to be set on a copy of a slice from a DataFrame.\n",
      "Try using .loc[row_indexer,col_indexer] = value instead\n",
      "\n",
      "See the caveats in the documentation: https://pandas.pydata.org/pandas-docs/stable/user_guide/indexing.html#returning-a-view-versus-a-copy\n",
      "  pal_news['Title'] = pal_news['Title'].str.replace(\" - BBC News\", \"\", regex=False)\n"
     ]
    }
   ],
   "source": [
    "# Remove redundatn information from the title\n",
    "pal_news['Title'] = pal_news['Title'].str.replace(\" - BBC News\", \"\", regex=False)"
   ]
  },
  {
   "cell_type": "code",
   "execution_count": 93,
   "metadata": {},
   "outputs": [
    {
     "name": "stdout",
     "output_type": "stream",
     "text": [
      "                                                BBC_Title  \\\n",
      "0       Israel Gaza war: Satellite images show constru...   \n",
      "1       Israel Gaza war: Satellite images show constru...   \n",
      "2       Israel Gaza war: Satellite images show constru...   \n",
      "3       Israel Gaza war: Satellite images show constru...   \n",
      "4       Israel Gaza war: Satellite images show constru...   \n",
      "...                                                   ...   \n",
      "990787  Biden to visit Israel as concerns grow over co...   \n",
      "990788  Biden to visit Israel as concerns grow over co...   \n",
      "990789  Biden to visit Israel as concerns grow over co...   \n",
      "990790  Biden to visit Israel as concerns grow over co...   \n",
      "990791  Biden to visit Israel as concerns grow over co...   \n",
      "\n",
      "                                                Alj_Title  Similarity  \n",
      "0       Israel kills dozens in Rafah strikes, frees tw...    0.022227  \n",
      "1       Hamas warns Israeli invasion of Rafah will ‘to...    0.000000  \n",
      "2       Palestinian President Mahmoud Abbas in Qatar f...    0.017874  \n",
      "3       What’s happening in Gaza’s Rafah as Israel thr...    0.053319  \n",
      "4       UNRWA refutes Israeli implications of Hamas tu...    0.016536  \n",
      "...                                                   ...         ...  \n",
      "990787  World reaction to surprise attack by Palestini...    0.069466  \n",
      "990788  Why the Palestinian group Hamas launched an at...    0.047088  \n",
      "990789  Israel retaliation kills 230 Palestinians afte...    0.025516  \n",
      "990790  Palestinian killed as Israeli settlers attack ...    0.054145  \n",
      "990791  The October 1973 War: How it led to the first ...    0.043468  \n",
      "\n",
      "[990792 rows x 3 columns]\n"
     ]
    }
   ],
   "source": [
    "import pandas as pd\n",
    "from sklearn.feature_extraction.text import TfidfVectorizer\n",
    "from sklearn.metrics.pairwise import cosine_similarity\n",
    "\n",
    "# Separate titles by press\n",
    "df_bbc = pal_news[pal_news['press'] == 'BBC']\n",
    "df_alj = pal_news[pal_news['press'] == 'Al Jazeera']\n",
    "\n",
    "# Vectorize titles\n",
    "vectorizer = TfidfVectorizer()\n",
    "tfidf_bbc = vectorizer.fit_transform(df_bbc['Title'])\n",
    "# Use the same vectorizer to ensure the same feature space\n",
    "tfidf_alj = vectorizer.transform(df_alj['Title'])\n",
    "\n",
    "# Compute Cosine Similarity\n",
    "cosine_sim = cosine_similarity(tfidf_bbc, tfidf_alj)\n",
    "\n",
    "# Create a DataFrame to log results\n",
    "# Generating pairs of titles from different press types with their similarity scores\n",
    "results = []\n",
    "for i, title_bbc in enumerate(df_bbc['Title']):\n",
    "    for j, title_alj in enumerate(df_alj['Title']):\n",
    "        results.append({\n",
    "            'BBC_Title': title_bbc,\n",
    "            'Alj_Title': title_alj,\n",
    "            'Similarity': cosine_sim[i, j]\n",
    "        })\n",
    "results_df = pd.DataFrame(results)\n",
    "\n",
    "print(results_df)\n"
   ]
  },
  {
   "cell_type": "code",
   "execution_count": 94,
   "metadata": {},
   "outputs": [],
   "source": [
    "# Sort the results by similarity\n",
    "results_df.sort_values(by='Similarity', ascending=False, inplace=True)"
   ]
  }
 ],
 "metadata": {
  "kernelspec": {
   "display_name": "Python 3",
   "language": "python",
   "name": "python3"
  },
  "language_info": {
   "codemirror_mode": {
    "name": "ipython",
    "version": 3
   },
   "file_extension": ".py",
   "mimetype": "text/x-python",
   "name": "python",
   "nbconvert_exporter": "python",
   "pygments_lexer": "ipython3",
   "version": "3.9.6"
  }
 },
 "nbformat": 4,
 "nbformat_minor": 2
}
